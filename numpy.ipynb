{
 "cells": [
  {
   "cell_type": "markdown",
   "metadata": {},
   "source": [
    "\n",
    "Random Values\n",
    "https://numpy.org/doc/stable/reference/random/index.html\n",
    "\n",
    "\n"
   ]
  },
  {
   "cell_type": "code",
   "execution_count": 1,
   "metadata": {},
   "outputs": [],
   "source": [
    "# Random number generation.\n",
    "import numpy as np\n",
    "\n",
    "#plotting\n",
    "import matplotlib.pyplot as plt\n"
   ]
  },
  {
   "cell_type": "code",
   "execution_count": 2,
   "metadata": {},
   "outputs": [],
   "source": [
    "#plto size\n",
    "plt.rcParams[\"figure.figsize\"] = (10,8)\n",
    "\n",
    "#pyplot style\n",
    "plt.style.use('classic')\n"
   ]
  },
  {
   "cell_type": "code",
   "execution_count": 3,
   "metadata": {},
   "outputs": [],
   "source": [
    "# set this to none to generate random numbers\n",
    "seed = 1"
   ]
  },
  {
   "cell_type": "code",
   "execution_count": 4,
   "metadata": {},
   "outputs": [],
   "source": [
    "# create ab instance of the random number generator \n",
    "rng = np.random.default_rng(seed = seed)"
   ]
  },
  {
   "cell_type": "code",
   "execution_count": 5,
   "metadata": {},
   "outputs": [],
   "source": [
    "vals = rng.standard_normal(10)\n",
    "more_vals = rng.standard_normal(10)\n"
   ]
  },
  {
   "cell_type": "code",
   "execution_count": 6,
   "metadata": {},
   "outputs": [
    {
     "data": {
      "text/plain": [
       "array([ 0.34558419,  0.82161814,  0.33043708, -1.30315723,  0.90535587,\n",
       "        0.44637457, -0.53695324,  0.5811181 ,  0.3645724 ,  0.2941325 ])"
      ]
     },
     "execution_count": 6,
     "metadata": {},
     "output_type": "execute_result"
    }
   ],
   "source": [
    "vals"
   ]
  },
  {
   "cell_type": "code",
   "execution_count": null,
   "metadata": {},
   "outputs": [],
   "source": []
  },
  {
   "cell_type": "code",
   "execution_count": 7,
   "metadata": {},
   "outputs": [],
   "source": [
    "# Set this to None to generate random numbers.\n",
    "seed = 1"
   ]
  },
  {
   "cell_type": "code",
   "execution_count": 8,
   "metadata": {},
   "outputs": [],
   "source": [
    "# Create an instance of the random number generator.\n",
    "rng = np.random.default_rng(seed=seed)"
   ]
  },
  {
   "cell_type": "markdown",
   "metadata": {},
   "source": [
    "Uniform\n",
    "https://numpy.org/doc/stable/reference/random/generated/numpy.random.Generator.uniform.html#numpy.random.Generator.uniform\n",
    "\n"
   ]
  },
  {
   "cell_type": "code",
   "execution_count": 9,
   "metadata": {},
   "outputs": [
    {
     "data": {
      "text/plain": [
       "0.5118216247002567"
      ]
     },
     "execution_count": 9,
     "metadata": {},
     "output_type": "execute_result"
    }
   ],
   "source": [
    "# Generate a single uniform value.\n",
    "rng.uniform()"
   ]
  },
  {
   "cell_type": "code",
   "execution_count": 10,
   "metadata": {},
   "outputs": [
    {
     "data": {
      "text/plain": [
       "95.54173266933418"
      ]
     },
     "execution_count": 10,
     "metadata": {},
     "output_type": "execute_result"
    }
   ],
   "source": [
    "# Generate a single value between 10 and 100.\n",
    "rng.uniform(low=10.0, high=100.0)"
   ]
  },
  {
   "cell_type": "code",
   "execution_count": 11,
   "metadata": {},
   "outputs": [
    {
     "data": {
      "text/plain": [
       "array([0.14415961, 0.94864945, 0.31183145, ..., 0.4814537 , 0.57212589,\n",
       "       0.03130154])"
      ]
     },
     "execution_count": 11,
     "metadata": {},
     "output_type": "execute_result"
    }
   ],
   "source": [
    "# Generate several nubmers.\n",
    "nos = rng.uniform(size=10000)\n",
    "nos"
   ]
  },
  {
   "cell_type": "code",
   "execution_count": 12,
   "metadata": {},
   "outputs": [
    {
     "data": {
      "text/plain": [
       "10000"
      ]
     },
     "execution_count": 12,
     "metadata": {},
     "output_type": "execute_result"
    }
   ],
   "source": [
    "# how many did we get?\n",
    "nos.size\n"
   ]
  },
  {
   "cell_type": "code",
   "execution_count": 13,
   "metadata": {},
   "outputs": [
    {
     "data": {
      "text/plain": [
       "(array([1013.,  987.,  991.,  958., 1004., 1020.,  987., 1016.,  984.,\n",
       "        1040.]),\n",
       " array([9.60405600e-05, 1.00072017e-01, 2.00047993e-01, 3.00023969e-01,\n",
       "        3.99999945e-01, 4.99975922e-01, 5.99951898e-01, 6.99927874e-01,\n",
       "        7.99903850e-01, 8.99879826e-01, 9.99855803e-01]),\n",
       " <a list of 10 Patch objects>)"
      ]
     },
     "execution_count": 13,
     "metadata": {},
     "output_type": "execute_result"
    },
    {
     "data": {
      "image/png": "[encoded data removed]",
      "text/plain": [
       "<Figure size 640x480 with 1 Axes>"
      ]
     },
     "metadata": {},
     "output_type": "display_data"
    }
   ],
   "source": [
    "#histogram of nos\n",
    "plt.hist(nos)"
   ]
  },
  {
   "cell_type": "markdown",
   "metadata": {},
   "source": [
    "Normal\n",
    "https://numpy.org/doc/stable/reference/random/generated/numpy.random.Generator.normal.html#numpy.random.Generator.normal"
   ]
  },
  {
   "cell_type": "code",
   "execution_count": 14,
   "metadata": {},
   "outputs": [
    {
     "data": {
      "text/plain": [
       "0.3629355159220716"
      ]
     },
     "execution_count": 14,
     "metadata": {},
     "output_type": "execute_result"
    }
   ],
   "source": [
    "# Generate single normal value.\n",
    "rng.normal()\n"
   ]
  },
  {
   "cell_type": "code",
   "execution_count": 15,
   "metadata": {},
   "outputs": [
    {
     "data": {
      "text/plain": [
       "array([0.983281  , 0.4846102 , 0.98850656, ..., 0.99649886, 0.71680686,\n",
       "       1.237041  ])"
      ]
     },
     "execution_count": 15,
     "metadata": {},
     "output_type": "execute_result"
    }
   ],
   "source": [
    "# Generate 10,000 values.\n",
    "nos = rng.normal(size=10000)\n",
    "nos"
   ]
  },
  {
   "cell_type": "code",
   "execution_count": 16,
   "metadata": {},
   "outputs": [
    {
     "data": {
      "text/plain": [
       "(array([  1.,   1.,   0.,   0.,   0.,   2.,   1.,   2.,   4.,   0.,   4.,\n",
       "          5.,   6.,  12.,  13.,  22.,  21.,  24.,  27.,  35.,  30.,  46.,\n",
       "         63.,  56.,  57.,  80.,  89., 102., 110., 109., 135., 139., 165.,\n",
       "        173., 201., 197., 228., 209., 239., 274., 263., 277., 291., 261.,\n",
       "        298., 286., 283., 301., 294., 307., 287., 294., 299., 265., 266.,\n",
       "        260., 252., 217., 213., 204., 205., 167., 150., 139., 123., 115.,\n",
       "         98.,  94.,  73.,  74.,  67.,  57.,  51.,  40.,  43.,  36.,  29.,\n",
       "         33.,  18.,  14.,  19.,  11.,  17.,   7.,   1.,   2.,   1.,   2.,\n",
       "          5.,   2.,   2.,   0.,   1.,   1.,   1.,   1.,   0.,   0.,   0.,\n",
       "          1.]),\n",
       " array([-3.58104758, -3.50590156, -3.43075553, -3.35560951, -3.28046348,\n",
       "        -3.20531746, -3.13017143, -3.05502541, -2.97987938, -2.90473336,\n",
       "        -2.82958733, -2.75444131, -2.67929529, -2.60414926, -2.52900324,\n",
       "        -2.45385721, -2.37871119, -2.30356516, -2.22841914, -2.15327311,\n",
       "        -2.07812709, -2.00298106, -1.92783504, -1.85268901, -1.77754299,\n",
       "        -1.70239697, -1.62725094, -1.55210492, -1.47695889, -1.40181287,\n",
       "        -1.32666684, -1.25152082, -1.17637479, -1.10122877, -1.02608274,\n",
       "        -0.95093672, -0.8757907 , -0.80064467, -0.72549865, -0.65035262,\n",
       "        -0.5752066 , -0.50006057, -0.42491455, -0.34976852, -0.2746225 ,\n",
       "        -0.19947647, -0.12433045, -0.04918443,  0.0259616 ,  0.10110762,\n",
       "         0.17625365,  0.25139967,  0.3265457 ,  0.40169172,  0.47683775,\n",
       "         0.55198377,  0.6271298 ,  0.70227582,  0.77742185,  0.85256787,\n",
       "         0.92771389,  1.00285992,  1.07800594,  1.15315197,  1.22829799,\n",
       "         1.30344402,  1.37859004,  1.45373607,  1.52888209,  1.60402812,\n",
       "         1.67917414,  1.75432016,  1.82946619,  1.90461221,  1.97975824,\n",
       "         2.05490426,  2.13005029,  2.20519631,  2.28034234,  2.35548836,\n",
       "         2.43063439,  2.50578041,  2.58092644,  2.65607246,  2.73121848,\n",
       "         2.80636451,  2.88151053,  2.95665656,  3.03180258,  3.10694861,\n",
       "         3.18209463,  3.25724066,  3.33238668,  3.40753271,  3.48267873,\n",
       "         3.55782475,  3.63297078,  3.7081168 ,  3.78326283,  3.85840885,\n",
       "         3.93355488]),\n",
       " <a list of 100 Patch objects>)"
      ]
     },
     "execution_count": 16,
     "metadata": {},
     "output_type": "execute_result"
    },
    {
     "data": {
      "image/png": "[encoded data removed]",
      "text/plain": [
       "<Figure size 640x480 with 1 Axes>"
      ]
     },
     "metadata": {},
     "output_type": "display_data"
    }
   ],
   "source": [
    "#histogram of nos\n",
    "plt.hist(nos, bins =100)\n"
   ]
  },
  {
   "cell_type": "code",
   "execution_count": 19,
   "metadata": {},
   "outputs": [],
   "source": [
    "nos_A = rng.normal (loc = 1.0,size=10000)\n",
    "nos_B = rng.normal (loc = 3.0,size=10000)"
   ]
  },
  {
   "cell_type": "code",
   "execution_count": 20,
   "metadata": {},
   "outputs": [
    {
     "data": {
      "text/plain": [
       "(array([  1.,   0.,   0.,   1.,   0.,   1.,   2.,   1.,   2.,   7.,   5.,\n",
       "          2.,   6.,   8.,   8.,   2.,  17.,  15.,  23.,  21.,  24.,  24.,\n",
       "         36.,  36.,  54.,  54.,  59.,  70.,  89., 107.,  90.,  95., 124.,\n",
       "        165., 133., 178., 195., 207., 193., 202., 222., 208., 248., 262.,\n",
       "        301., 303., 276., 280., 337., 311., 287., 315., 282., 293., 294.,\n",
       "        292., 254., 245., 269., 220., 236., 197., 204., 173., 165., 141.,\n",
       "        138., 122., 104., 102., 112.,  84.,  71.,  62.,  40.,  45.,  39.,\n",
       "         38.,  31.,  23.,  20.,  24.,  21.,  15.,   3.,  12.,   1.,   4.,\n",
       "          2.,   5.,   2.,   1.,   1.,   4.,   0.,   0.,   0.,   1.,   0.,\n",
       "          1.]),\n",
       " array([-0.77252168, -0.69722399, -0.62192631, -0.54662862, -0.47133093,\n",
       "        -0.39603324, -0.32073555, -0.24543786, -0.17014017, -0.09484248,\n",
       "        -0.0195448 ,  0.05575289,  0.13105058,  0.20634827,  0.28164596,\n",
       "         0.35694365,  0.43224134,  0.50753903,  0.58283671,  0.6581344 ,\n",
       "         0.73343209,  0.80872978,  0.88402747,  0.95932516,  1.03462285,\n",
       "         1.10992054,  1.18521822,  1.26051591,  1.3358136 ,  1.41111129,\n",
       "         1.48640898,  1.56170667,  1.63700436,  1.71230205,  1.78759973,\n",
       "         1.86289742,  1.93819511,  2.0134928 ,  2.08879049,  2.16408818,\n",
       "         2.23938587,  2.31468355,  2.38998124,  2.46527893,  2.54057662,\n",
       "         2.61587431,  2.691172  ,  2.76646969,  2.84176738,  2.91706506,\n",
       "         2.99236275,  3.06766044,  3.14295813,  3.21825582,  3.29355351,\n",
       "         3.3688512 ,  3.44414889,  3.51944657,  3.59474426,  3.67004195,\n",
       "         3.74533964,  3.82063733,  3.89593502,  3.97123271,  4.0465304 ,\n",
       "         4.12182808,  4.19712577,  4.27242346,  4.34772115,  4.42301884,\n",
       "         4.49831653,  4.57361422,  4.64891191,  4.72420959,  4.79950728,\n",
       "         4.87480497,  4.95010266,  5.02540035,  5.10069804,  5.17599573,\n",
       "         5.25129342,  5.3265911 ,  5.40188879,  5.47718648,  5.55248417,\n",
       "         5.62778186,  5.70307955,  5.77837724,  5.85367493,  5.92897261,\n",
       "         6.0042703 ,  6.07956799,  6.15486568,  6.23016337,  6.30546106,\n",
       "         6.38075875,  6.45605644,  6.53135412,  6.60665181,  6.6819495 ,\n",
       "         6.75724719]),\n",
       " <a list of 100 Patch objects>)"
      ]
     },
     "execution_count": 20,
     "metadata": {},
     "output_type": "execute_result"
    },
    {
     "data": {
      "image/png": "[encoded data removed]",
      "text/plain": [
       "<Figure size 640x480 with 1 Axes>"
      ]
     },
     "metadata": {},
     "output_type": "display_data"
    }
   ],
   "source": [
    "fig,ax = plt.subplots()\n",
    "\n",
    "ax.hist(nos_A, bins = 100, alpha =0.5)\n",
    "ax.hist(nos_B, bins = 100, alpha = 0.5)"
   ]
  },
  {
   "cell_type": "code",
   "execution_count": null,
   "metadata": {},
   "outputs": [],
   "source": []
  },
  {
   "cell_type": "code",
   "execution_count": null,
   "metadata": {},
   "outputs": [],
   "source": []
  }
 ],
 "metadata": {
  "kernelspec": {
   "display_name": "Python 3",
   "language": "python",
   "name": "python3"
  },
  "language_info": {
   "codemirror_mode": {
    "name": "ipython",
    "version": 3
   },
   "file_extension": ".py",
   "mimetype": "text/x-python",
   "name": "python",
   "nbconvert_exporter": "python",
   "pygments_lexer": "ipython3",
   "version": "3.7.4"
  }
 },
 "nbformat": 4,
 "nbformat_minor": 4
}
